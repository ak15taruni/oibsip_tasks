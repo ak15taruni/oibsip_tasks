{
 "cells": [
  {
   "cell_type": "markdown",
   "id": "9f897b5f",
   "metadata": {},
   "source": [
    "# Email Spam Detection With Machine learning(TASK-4)"
   ]
  },
  {
   "cell_type": "code",
   "execution_count": 42,
   "id": "42a9db89",
   "metadata": {},
   "outputs": [
    {
     "name": "stdout",
     "output_type": "stream",
     "text": [
      "Requirement already satisfied: matplotlib in c:\\users\\taruni\\anaconda3\\lib\\site-packages (3.4.3)\n",
      "Requirement already satisfied: pyparsing>=2.2.1 in c:\\users\\taruni\\anaconda3\\lib\\site-packages (from matplotlib) (3.0.4)\n",
      "Requirement already satisfied: cycler>=0.10 in c:\\users\\taruni\\anaconda3\\lib\\site-packages (from matplotlib) (0.10.0)\n",
      "Requirement already satisfied: kiwisolver>=1.0.1 in c:\\users\\taruni\\anaconda3\\lib\\site-packages (from matplotlib) (1.3.1)\n",
      "Requirement already satisfied: python-dateutil>=2.7 in c:\\users\\taruni\\anaconda3\\lib\\site-packages (from matplotlib) (2.8.2)\n",
      "Requirement already satisfied: numpy>=1.16 in c:\\users\\taruni\\anaconda3\\lib\\site-packages (from matplotlib) (1.20.3)\n",
      "Requirement already satisfied: pillow>=6.2.0 in c:\\users\\taruni\\anaconda3\\lib\\site-packages (from matplotlib) (8.4.0)\n",
      "Requirement already satisfied: six in c:\\users\\taruni\\anaconda3\\lib\\site-packages (from cycler>=0.10->matplotlib) (1.16.0)\n",
      "Requirement already satisfied: plotly in c:\\users\\taruni\\anaconda3\\lib\\site-packages (5.16.1)\n",
      "Requirement already satisfied: packaging in c:\\users\\taruni\\anaconda3\\lib\\site-packages (from plotly) (21.0)\n",
      "Requirement already satisfied: tenacity>=6.2.0 in c:\\users\\taruni\\anaconda3\\lib\\site-packages (from plotly) (8.2.3)\n",
      "Requirement already satisfied: pyparsing>=2.0.2 in c:\\users\\taruni\\anaconda3\\lib\\site-packages (from packaging->plotly) (3.0.4)\n"
     ]
    }
   ],
   "source": [
    "!pip install matplotlib\n",
    "!pip install plotly"
   ]
  },
  {
   "cell_type": "code",
   "execution_count": 43,
   "id": "87d5a33f",
   "metadata": {},
   "outputs": [],
   "source": [
    "import numpy as np\n",
    "import pandas as pd\n",
    "import seaborn as sns\n",
    "import matplotlib.pyplot as plt\n",
    "import plotly.express as px\n",
    "from sklearn.model_selection import train_test_split\n",
    "from sklearn.linear_model import LogisticRegression\n",
    "from sklearn.feature_extraction.text import TfidfVectorizer \n",
    "from sklearn.metrics import accuracy_score,classification_report,confusion_matrix\n"
   ]
  },
  {
   "cell_type": "code",
   "execution_count": 47,
   "id": "6b3ce69a",
   "metadata": {},
   "outputs": [],
   "source": [
    "d = pd.read_csv(\"spam.csv\",encoding='ISO-8859-1')"
   ]
  },
  {
   "cell_type": "code",
   "execution_count": 48,
   "id": "6a302b4c",
   "metadata": {},
   "outputs": [
    {
     "data": {
      "text/html": [
       "<div>\n",
       "<style scoped>\n",
       "    .dataframe tbody tr th:only-of-type {\n",
       "        vertical-align: middle;\n",
       "    }\n",
       "\n",
       "    .dataframe tbody tr th {\n",
       "        vertical-align: top;\n",
       "    }\n",
       "\n",
       "    .dataframe thead th {\n",
       "        text-align: right;\n",
       "    }\n",
       "</style>\n",
       "<table border=\"1\" class=\"dataframe\">\n",
       "  <thead>\n",
       "    <tr style=\"text-align: right;\">\n",
       "      <th></th>\n",
       "      <th>v1</th>\n",
       "      <th>v2</th>\n",
       "      <th>Unnamed: 2</th>\n",
       "      <th>Unnamed: 3</th>\n",
       "      <th>Unnamed: 4</th>\n",
       "    </tr>\n",
       "  </thead>\n",
       "  <tbody>\n",
       "    <tr>\n",
       "      <th>0</th>\n",
       "      <td>ham</td>\n",
       "      <td>Go until jurong point, crazy.. Available only ...</td>\n",
       "      <td>NaN</td>\n",
       "      <td>NaN</td>\n",
       "      <td>NaN</td>\n",
       "    </tr>\n",
       "    <tr>\n",
       "      <th>1</th>\n",
       "      <td>ham</td>\n",
       "      <td>Ok lar... Joking wif u oni...</td>\n",
       "      <td>NaN</td>\n",
       "      <td>NaN</td>\n",
       "      <td>NaN</td>\n",
       "    </tr>\n",
       "    <tr>\n",
       "      <th>2</th>\n",
       "      <td>spam</td>\n",
       "      <td>Free entry in 2 a wkly comp to win FA Cup fina...</td>\n",
       "      <td>NaN</td>\n",
       "      <td>NaN</td>\n",
       "      <td>NaN</td>\n",
       "    </tr>\n",
       "    <tr>\n",
       "      <th>3</th>\n",
       "      <td>ham</td>\n",
       "      <td>U dun say so early hor... U c already then say...</td>\n",
       "      <td>NaN</td>\n",
       "      <td>NaN</td>\n",
       "      <td>NaN</td>\n",
       "    </tr>\n",
       "    <tr>\n",
       "      <th>4</th>\n",
       "      <td>ham</td>\n",
       "      <td>Nah I don't think he goes to usf, he lives aro...</td>\n",
       "      <td>NaN</td>\n",
       "      <td>NaN</td>\n",
       "      <td>NaN</td>\n",
       "    </tr>\n",
       "    <tr>\n",
       "      <th>...</th>\n",
       "      <td>...</td>\n",
       "      <td>...</td>\n",
       "      <td>...</td>\n",
       "      <td>...</td>\n",
       "      <td>...</td>\n",
       "    </tr>\n",
       "    <tr>\n",
       "      <th>5567</th>\n",
       "      <td>spam</td>\n",
       "      <td>This is the 2nd time we have tried 2 contact u...</td>\n",
       "      <td>NaN</td>\n",
       "      <td>NaN</td>\n",
       "      <td>NaN</td>\n",
       "    </tr>\n",
       "    <tr>\n",
       "      <th>5568</th>\n",
       "      <td>ham</td>\n",
       "      <td>Will Ì_ b going to esplanade fr home?</td>\n",
       "      <td>NaN</td>\n",
       "      <td>NaN</td>\n",
       "      <td>NaN</td>\n",
       "    </tr>\n",
       "    <tr>\n",
       "      <th>5569</th>\n",
       "      <td>ham</td>\n",
       "      <td>Pity, * was in mood for that. So...any other s...</td>\n",
       "      <td>NaN</td>\n",
       "      <td>NaN</td>\n",
       "      <td>NaN</td>\n",
       "    </tr>\n",
       "    <tr>\n",
       "      <th>5570</th>\n",
       "      <td>ham</td>\n",
       "      <td>The guy did some bitching but I acted like i'd...</td>\n",
       "      <td>NaN</td>\n",
       "      <td>NaN</td>\n",
       "      <td>NaN</td>\n",
       "    </tr>\n",
       "    <tr>\n",
       "      <th>5571</th>\n",
       "      <td>ham</td>\n",
       "      <td>Rofl. Its true to its name</td>\n",
       "      <td>NaN</td>\n",
       "      <td>NaN</td>\n",
       "      <td>NaN</td>\n",
       "    </tr>\n",
       "  </tbody>\n",
       "</table>\n",
       "<p>5572 rows × 5 columns</p>\n",
       "</div>"
      ],
      "text/plain": [
       "        v1                                                 v2 Unnamed: 2  \\\n",
       "0      ham  Go until jurong point, crazy.. Available only ...        NaN   \n",
       "1      ham                      Ok lar... Joking wif u oni...        NaN   \n",
       "2     spam  Free entry in 2 a wkly comp to win FA Cup fina...        NaN   \n",
       "3      ham  U dun say so early hor... U c already then say...        NaN   \n",
       "4      ham  Nah I don't think he goes to usf, he lives aro...        NaN   \n",
       "...    ...                                                ...        ...   \n",
       "5567  spam  This is the 2nd time we have tried 2 contact u...        NaN   \n",
       "5568   ham              Will Ì_ b going to esplanade fr home?        NaN   \n",
       "5569   ham  Pity, * was in mood for that. So...any other s...        NaN   \n",
       "5570   ham  The guy did some bitching but I acted like i'd...        NaN   \n",
       "5571   ham                         Rofl. Its true to its name        NaN   \n",
       "\n",
       "     Unnamed: 3 Unnamed: 4  \n",
       "0           NaN        NaN  \n",
       "1           NaN        NaN  \n",
       "2           NaN        NaN  \n",
       "3           NaN        NaN  \n",
       "4           NaN        NaN  \n",
       "...         ...        ...  \n",
       "5567        NaN        NaN  \n",
       "5568        NaN        NaN  \n",
       "5569        NaN        NaN  \n",
       "5570        NaN        NaN  \n",
       "5571        NaN        NaN  \n",
       "\n",
       "[5572 rows x 5 columns]"
      ]
     },
     "execution_count": 48,
     "metadata": {},
     "output_type": "execute_result"
    }
   ],
   "source": [
    "d"
   ]
  },
  {
   "cell_type": "code",
   "execution_count": 49,
   "id": "79a6e748",
   "metadata": {},
   "outputs": [
    {
     "name": "stdout",
     "output_type": "stream",
     "text": [
      "<class 'pandas.core.frame.DataFrame'>\n",
      "RangeIndex: 5572 entries, 0 to 5571\n",
      "Data columns (total 5 columns):\n",
      " #   Column      Non-Null Count  Dtype \n",
      "---  ------      --------------  ----- \n",
      " 0   v1          5572 non-null   object\n",
      " 1   v2          5572 non-null   object\n",
      " 2   Unnamed: 2  50 non-null     object\n",
      " 3   Unnamed: 3  12 non-null     object\n",
      " 4   Unnamed: 4  6 non-null      object\n",
      "dtypes: object(5)\n",
      "memory usage: 217.8+ KB\n"
     ]
    }
   ],
   "source": [
    "d.info()"
   ]
  },
  {
   "cell_type": "code",
   "execution_count": 50,
   "id": "0dd11407",
   "metadata": {},
   "outputs": [
    {
     "data": {
      "text/plain": [
       "Index(['v1', 'v2', 'Unnamed: 2', 'Unnamed: 3', 'Unnamed: 4'], dtype='object')"
      ]
     },
     "execution_count": 50,
     "metadata": {},
     "output_type": "execute_result"
    }
   ],
   "source": [
    "d.columns"
   ]
  },
  {
   "cell_type": "code",
   "execution_count": 51,
   "id": "cb2ba10d",
   "metadata": {},
   "outputs": [
    {
     "data": {
      "text/plain": [
       "v1             0.000000\n",
       "v2             0.000000\n",
       "Unnamed: 2    99.102656\n",
       "Unnamed: 3    99.784637\n",
       "Unnamed: 4    99.892319\n",
       "dtype: float64"
      ]
     },
     "execution_count": 51,
     "metadata": {},
     "output_type": "execute_result"
    }
   ],
   "source": [
    "d.isnull().mean()*100"
   ]
  },
  {
   "cell_type": "code",
   "execution_count": 52,
   "id": "dccc333b",
   "metadata": {},
   "outputs": [],
   "source": [
    "d.drop(columns=['Unnamed: 2','Unnamed: 3','Unnamed: 4'],inplace=True)"
   ]
  },
  {
   "cell_type": "code",
   "execution_count": 53,
   "id": "9aed8d6e",
   "metadata": {},
   "outputs": [
    {
     "data": {
      "text/html": [
       "<div>\n",
       "<style scoped>\n",
       "    .dataframe tbody tr th:only-of-type {\n",
       "        vertical-align: middle;\n",
       "    }\n",
       "\n",
       "    .dataframe tbody tr th {\n",
       "        vertical-align: top;\n",
       "    }\n",
       "\n",
       "    .dataframe thead th {\n",
       "        text-align: right;\n",
       "    }\n",
       "</style>\n",
       "<table border=\"1\" class=\"dataframe\">\n",
       "  <thead>\n",
       "    <tr style=\"text-align: right;\">\n",
       "      <th></th>\n",
       "      <th>v1</th>\n",
       "      <th>v2</th>\n",
       "    </tr>\n",
       "  </thead>\n",
       "  <tbody>\n",
       "    <tr>\n",
       "      <th>0</th>\n",
       "      <td>ham</td>\n",
       "      <td>Go until jurong point, crazy.. Available only ...</td>\n",
       "    </tr>\n",
       "    <tr>\n",
       "      <th>1</th>\n",
       "      <td>ham</td>\n",
       "      <td>Ok lar... Joking wif u oni...</td>\n",
       "    </tr>\n",
       "    <tr>\n",
       "      <th>2</th>\n",
       "      <td>spam</td>\n",
       "      <td>Free entry in 2 a wkly comp to win FA Cup fina...</td>\n",
       "    </tr>\n",
       "    <tr>\n",
       "      <th>3</th>\n",
       "      <td>ham</td>\n",
       "      <td>U dun say so early hor... U c already then say...</td>\n",
       "    </tr>\n",
       "    <tr>\n",
       "      <th>4</th>\n",
       "      <td>ham</td>\n",
       "      <td>Nah I don't think he goes to usf, he lives aro...</td>\n",
       "    </tr>\n",
       "    <tr>\n",
       "      <th>...</th>\n",
       "      <td>...</td>\n",
       "      <td>...</td>\n",
       "    </tr>\n",
       "    <tr>\n",
       "      <th>5567</th>\n",
       "      <td>spam</td>\n",
       "      <td>This is the 2nd time we have tried 2 contact u...</td>\n",
       "    </tr>\n",
       "    <tr>\n",
       "      <th>5568</th>\n",
       "      <td>ham</td>\n",
       "      <td>Will Ì_ b going to esplanade fr home?</td>\n",
       "    </tr>\n",
       "    <tr>\n",
       "      <th>5569</th>\n",
       "      <td>ham</td>\n",
       "      <td>Pity, * was in mood for that. So...any other s...</td>\n",
       "    </tr>\n",
       "    <tr>\n",
       "      <th>5570</th>\n",
       "      <td>ham</td>\n",
       "      <td>The guy did some bitching but I acted like i'd...</td>\n",
       "    </tr>\n",
       "    <tr>\n",
       "      <th>5571</th>\n",
       "      <td>ham</td>\n",
       "      <td>Rofl. Its true to its name</td>\n",
       "    </tr>\n",
       "  </tbody>\n",
       "</table>\n",
       "<p>5572 rows × 2 columns</p>\n",
       "</div>"
      ],
      "text/plain": [
       "        v1                                                 v2\n",
       "0      ham  Go until jurong point, crazy.. Available only ...\n",
       "1      ham                      Ok lar... Joking wif u oni...\n",
       "2     spam  Free entry in 2 a wkly comp to win FA Cup fina...\n",
       "3      ham  U dun say so early hor... U c already then say...\n",
       "4      ham  Nah I don't think he goes to usf, he lives aro...\n",
       "...    ...                                                ...\n",
       "5567  spam  This is the 2nd time we have tried 2 contact u...\n",
       "5568   ham              Will Ì_ b going to esplanade fr home?\n",
       "5569   ham  Pity, * was in mood for that. So...any other s...\n",
       "5570   ham  The guy did some bitching but I acted like i'd...\n",
       "5571   ham                         Rofl. Its true to its name\n",
       "\n",
       "[5572 rows x 2 columns]"
      ]
     },
     "execution_count": 53,
     "metadata": {},
     "output_type": "execute_result"
    }
   ],
   "source": [
    "d"
   ]
  },
  {
   "cell_type": "code",
   "execution_count": 54,
   "id": "7108dedf",
   "metadata": {},
   "outputs": [],
   "source": [
    "#renaming columns\n",
    "d.columns=['spam/ham','message']"
   ]
  },
  {
   "cell_type": "code",
   "execution_count": 55,
   "id": "653a95d6",
   "metadata": {},
   "outputs": [],
   "source": [
    "d.loc[d['spam/ham']=='spam','spam/ham',]=0\n",
    "d.loc[d['spam/ham']=='ham','spam/ham',]=1"
   ]
  },
  {
   "cell_type": "code",
   "execution_count": 56,
   "id": "a226b888",
   "metadata": {},
   "outputs": [
    {
     "data": {
      "text/html": [
       "<div>\n",
       "<style scoped>\n",
       "    .dataframe tbody tr th:only-of-type {\n",
       "        vertical-align: middle;\n",
       "    }\n",
       "\n",
       "    .dataframe tbody tr th {\n",
       "        vertical-align: top;\n",
       "    }\n",
       "\n",
       "    .dataframe thead th {\n",
       "        text-align: right;\n",
       "    }\n",
       "</style>\n",
       "<table border=\"1\" class=\"dataframe\">\n",
       "  <thead>\n",
       "    <tr style=\"text-align: right;\">\n",
       "      <th></th>\n",
       "      <th>spam/ham</th>\n",
       "      <th>message</th>\n",
       "    </tr>\n",
       "  </thead>\n",
       "  <tbody>\n",
       "    <tr>\n",
       "      <th>0</th>\n",
       "      <td>1</td>\n",
       "      <td>Go until jurong point, crazy.. Available only ...</td>\n",
       "    </tr>\n",
       "    <tr>\n",
       "      <th>1</th>\n",
       "      <td>1</td>\n",
       "      <td>Ok lar... Joking wif u oni...</td>\n",
       "    </tr>\n",
       "    <tr>\n",
       "      <th>2</th>\n",
       "      <td>0</td>\n",
       "      <td>Free entry in 2 a wkly comp to win FA Cup fina...</td>\n",
       "    </tr>\n",
       "    <tr>\n",
       "      <th>3</th>\n",
       "      <td>1</td>\n",
       "      <td>U dun say so early hor... U c already then say...</td>\n",
       "    </tr>\n",
       "    <tr>\n",
       "      <th>4</th>\n",
       "      <td>1</td>\n",
       "      <td>Nah I don't think he goes to usf, he lives aro...</td>\n",
       "    </tr>\n",
       "    <tr>\n",
       "      <th>...</th>\n",
       "      <td>...</td>\n",
       "      <td>...</td>\n",
       "    </tr>\n",
       "    <tr>\n",
       "      <th>5567</th>\n",
       "      <td>0</td>\n",
       "      <td>This is the 2nd time we have tried 2 contact u...</td>\n",
       "    </tr>\n",
       "    <tr>\n",
       "      <th>5568</th>\n",
       "      <td>1</td>\n",
       "      <td>Will Ì_ b going to esplanade fr home?</td>\n",
       "    </tr>\n",
       "    <tr>\n",
       "      <th>5569</th>\n",
       "      <td>1</td>\n",
       "      <td>Pity, * was in mood for that. So...any other s...</td>\n",
       "    </tr>\n",
       "    <tr>\n",
       "      <th>5570</th>\n",
       "      <td>1</td>\n",
       "      <td>The guy did some bitching but I acted like i'd...</td>\n",
       "    </tr>\n",
       "    <tr>\n",
       "      <th>5571</th>\n",
       "      <td>1</td>\n",
       "      <td>Rofl. Its true to its name</td>\n",
       "    </tr>\n",
       "  </tbody>\n",
       "</table>\n",
       "<p>5572 rows × 2 columns</p>\n",
       "</div>"
      ],
      "text/plain": [
       "     spam/ham                                            message\n",
       "0           1  Go until jurong point, crazy.. Available only ...\n",
       "1           1                      Ok lar... Joking wif u oni...\n",
       "2           0  Free entry in 2 a wkly comp to win FA Cup fina...\n",
       "3           1  U dun say so early hor... U c already then say...\n",
       "4           1  Nah I don't think he goes to usf, he lives aro...\n",
       "...       ...                                                ...\n",
       "5567        0  This is the 2nd time we have tried 2 contact u...\n",
       "5568        1              Will Ì_ b going to esplanade fr home?\n",
       "5569        1  Pity, * was in mood for that. So...any other s...\n",
       "5570        1  The guy did some bitching but I acted like i'd...\n",
       "5571        1                         Rofl. Its true to its name\n",
       "\n",
       "[5572 rows x 2 columns]"
      ]
     },
     "execution_count": 56,
     "metadata": {},
     "output_type": "execute_result"
    }
   ],
   "source": [
    "d"
   ]
  },
  {
   "cell_type": "code",
   "execution_count": 19,
   "id": "884af1cf",
   "metadata": {},
   "outputs": [
    {
     "data": {
      "text/plain": [
       "0       Go until jurong point, crazy.. Available only ...\n",
       "1                           Ok lar... Joking wif u oni...\n",
       "2       Free entry in 2 a wkly comp to win FA Cup fina...\n",
       "3       U dun say so early hor... U c already then say...\n",
       "4       Nah I don't think he goes to usf, he lives aro...\n",
       "                              ...                        \n",
       "5567    This is the 2nd time we have tried 2 contact u...\n",
       "5568                Will Ì_ b going to esplanade fr home?\n",
       "5569    Pity, * was in mood for that. So...any other s...\n",
       "5570    The guy did some bitching but I acted like i'd...\n",
       "5571                           Rofl. Its true to its name\n",
       "Name: message, Length: 5572, dtype: object"
      ]
     },
     "execution_count": 19,
     "metadata": {},
     "output_type": "execute_result"
    }
   ],
   "source": [
    "#To train the model divide the dataset into x and y parameters\n",
    "x = d.message\n",
    "x"
   ]
  },
  {
   "cell_type": "code",
   "execution_count": 20,
   "id": "ca8e4112",
   "metadata": {
    "scrolled": true
   },
   "outputs": [
    {
     "data": {
      "text/plain": [
       "0       1\n",
       "1       1\n",
       "2       0\n",
       "3       1\n",
       "4       1\n",
       "       ..\n",
       "5567    0\n",
       "5568    1\n",
       "5569    1\n",
       "5570    1\n",
       "5571    1\n",
       "Name: spam/ham, Length: 5572, dtype: object"
      ]
     },
     "execution_count": 20,
     "metadata": {},
     "output_type": "execute_result"
    }
   ],
   "source": [
    "y=d['spam/ham']\n",
    "y"
   ]
  },
  {
   "cell_type": "code",
   "execution_count": 21,
   "id": "4c4c134e",
   "metadata": {},
   "outputs": [],
   "source": [
    "from sklearn.model_selection import train_test_split"
   ]
  },
  {
   "cell_type": "code",
   "execution_count": 22,
   "id": "51da1c68",
   "metadata": {},
   "outputs": [],
   "source": [
    "x_train,x_test,y_train,y_test=train_test_split(x,y,test_size=0.2,random_state=3)"
   ]
  },
  {
   "cell_type": "code",
   "execution_count": 23,
   "id": "f7be38a8",
   "metadata": {},
   "outputs": [
    {
     "name": "stdout",
     "output_type": "stream",
     "text": [
      "(5572,)\n",
      "(4457,)\n",
      "(1115,)\n"
     ]
    }
   ],
   "source": [
    "print(x.shape)\n",
    "print(x_train.shape)\n",
    "print(x_test.shape)"
   ]
  },
  {
   "cell_type": "code",
   "execution_count": 24,
   "id": "2fc9bb7e",
   "metadata": {},
   "outputs": [
    {
     "data": {
      "text/plain": [
       "(3075    Mum, hope you are having a great day. Hoping t...\n",
       " 1787                           Yes:)sura in sun tv.:)lol.\n",
       " 1614    Me sef dey laugh you. Meanwhile how's my darli...\n",
       " 4304                Yo come over carlos will be here soon\n",
       " 3266                    Ok then i come n pick u at engin?\n",
       "                               ...                        \n",
       " 789                          Gud mrng dear hav a nice day\n",
       " 968             Are you willing to go for aptitude class.\n",
       " 1667    So now my dad is gonna call after he gets out ...\n",
       " 3321    Ok darlin i supose it was ok i just worry too ...\n",
       " 1688                     Nan sonathaya soladha. Why boss?\n",
       " Name: message, Length: 4457, dtype: object,\n",
       " 2632                       I WILL CAL YOU SIR. In meeting\n",
       " 454     Loan for any purpose å£500 - å£75,000. Homeown...\n",
       " 983     LOOK AT THE FUCKIN TIME. WHAT THE FUCK YOU THI...\n",
       " 1282    Ever green quote ever told by Jerry in cartoon...\n",
       " 4610                                  Wat time Ì_ finish?\n",
       "                               ...                        \n",
       " 4827    Lol no. Just trying to make your day a little ...\n",
       " 5291      Xy trying smth now. U eat already? We havent...\n",
       " 3325    Huh so fast... Dat means u havent finished pai...\n",
       " 3561    Still chance there. If you search hard you wil...\n",
       " 1136    Dont forget you can place as many FREE Request...\n",
       " Name: message, Length: 1115, dtype: object)"
      ]
     },
     "execution_count": 24,
     "metadata": {},
     "output_type": "execute_result"
    }
   ],
   "source": [
    "x_train,x_test"
   ]
  },
  {
   "cell_type": "code",
   "execution_count": 25,
   "id": "7d8a88f5",
   "metadata": {},
   "outputs": [
    {
     "data": {
      "text/plain": [
       "(3075    1\n",
       " 1787    1\n",
       " 1614    1\n",
       " 4304    1\n",
       " 3266    1\n",
       "        ..\n",
       " 789     1\n",
       " 968     1\n",
       " 1667    1\n",
       " 3321    1\n",
       " 1688    1\n",
       " Name: spam/ham, Length: 4457, dtype: object,\n",
       " 2632    1\n",
       " 454     0\n",
       " 983     1\n",
       " 1282    1\n",
       " 4610    1\n",
       "        ..\n",
       " 4827    1\n",
       " 5291    1\n",
       " 3325    1\n",
       " 3561    1\n",
       " 1136    0\n",
       " Name: spam/ham, Length: 1115, dtype: object)"
      ]
     },
     "execution_count": 25,
     "metadata": {},
     "output_type": "execute_result"
    }
   ],
   "source": [
    "y_train,y_test"
   ]
  },
  {
   "cell_type": "code",
   "execution_count": 26,
   "id": "7c8ec5e7",
   "metadata": {},
   "outputs": [
    {
     "data": {
      "text/plain": [
       "TfidfVectorizer(stop_words='english')"
      ]
     },
     "execution_count": 26,
     "metadata": {},
     "output_type": "execute_result"
    }
   ],
   "source": [
    "f_v=TfidfVectorizer(min_df = 1,stop_words='english',lowercase=True)\n",
    "f_v"
   ]
  },
  {
   "cell_type": "code",
   "execution_count": 57,
   "id": "72e2e0a4",
   "metadata": {},
   "outputs": [],
   "source": [
    "y_train = y_train.astype('int')\n",
    "y_test = y_test.astype('int')"
   ]
  },
  {
   "cell_type": "code",
   "execution_count": 58,
   "id": "04529056",
   "metadata": {},
   "outputs": [],
   "source": [
    "xtrain_vec = f_v.fit_transform(x_train)"
   ]
  },
  {
   "cell_type": "code",
   "execution_count": 59,
   "id": "bffa8ac1",
   "metadata": {},
   "outputs": [],
   "source": [
    "xtest_vec = f_v.transform(x_test)"
   ]
  },
  {
   "cell_type": "code",
   "execution_count": 60,
   "id": "806c4838",
   "metadata": {},
   "outputs": [
    {
     "name": "stdout",
     "output_type": "stream",
     "text": [
      "3075    Mum, hope you are having a great day. Hoping t...\n",
      "1787                           Yes:)sura in sun tv.:)lol.\n",
      "1614    Me sef dey laugh you. Meanwhile how's my darli...\n",
      "4304                Yo come over carlos will be here soon\n",
      "3266                    Ok then i come n pick u at engin?\n",
      "                              ...                        \n",
      "789                          Gud mrng dear hav a nice day\n",
      "968             Are you willing to go for aptitude class.\n",
      "1667    So now my dad is gonna call after he gets out ...\n",
      "3321    Ok darlin i supose it was ok i just worry too ...\n",
      "1688                     Nan sonathaya soladha. Why boss?\n",
      "Name: message, Length: 4457, dtype: object\n"
     ]
    }
   ],
   "source": [
    "print(x_train)"
   ]
  },
  {
   "cell_type": "code",
   "execution_count": 31,
   "id": "129d4a01",
   "metadata": {},
   "outputs": [
    {
     "data": {
      "text/plain": [
       "<4457x7510 sparse matrix of type '<class 'numpy.float64'>'\n",
       "\twith 34758 stored elements in Compressed Sparse Row format>"
      ]
     },
     "execution_count": 31,
     "metadata": {},
     "output_type": "execute_result"
    }
   ],
   "source": [
    "xtrain_vec"
   ]
  },
  {
   "cell_type": "code",
   "execution_count": 32,
   "id": "a3e7acbb",
   "metadata": {},
   "outputs": [
    {
     "name": "stdout",
     "output_type": "stream",
     "text": [
      "  (0, 741)\t0.3219352588930141\n",
      "  (0, 3979)\t0.2410582143632299\n",
      "  (0, 4296)\t0.3891385935794867\n",
      "  (0, 6599)\t0.20296878731699391\n",
      "  (0, 3386)\t0.3219352588930141\n",
      "  (0, 2122)\t0.38613577623520473\n",
      "  (0, 3136)\t0.440116181574609\n",
      "  (0, 3262)\t0.25877035357606315\n",
      "  (0, 3380)\t0.21807195185332803\n",
      "  (0, 4513)\t0.2909649098524696\n",
      "  (1, 4061)\t0.380431198316959\n",
      "  (1, 6872)\t0.4306015894277422\n",
      "  (1, 6417)\t0.4769136859540388\n",
      "  (1, 6442)\t0.5652509076654626\n",
      "  (1, 7443)\t0.35056971070320353\n",
      "  (2, 933)\t0.4917598465723273\n",
      "  (2, 2109)\t0.42972812260098503\n",
      "  (2, 3917)\t0.40088501350982736\n",
      "  (2, 2226)\t0.413484525934624\n",
      "  (2, 5825)\t0.4917598465723273\n",
      "  (3, 6140)\t0.4903863168693604\n",
      "  (3, 1599)\t0.5927091854194291\n",
      "  (3, 1842)\t0.3708680641487708\n",
      "  (3, 7453)\t0.5202633571003087\n",
      "  (4, 2531)\t0.7419319091456392\n",
      "  :\t:\n",
      "  (4452, 2122)\t0.31002103760284144\n",
      "  (4453, 999)\t0.6760129013031282\n",
      "  (4453, 7273)\t0.5787739591782677\n",
      "  (4453, 1762)\t0.45610005640082985\n",
      "  (4454, 3029)\t0.42618909997886\n",
      "  (4454, 2086)\t0.3809693742808703\n",
      "  (4454, 3088)\t0.34475593009514444\n",
      "  (4454, 2001)\t0.4166919007849217\n",
      "  (4454, 1049)\t0.31932060116006045\n",
      "  (4454, 7346)\t0.31166263834107377\n",
      "  (4454, 5370)\t0.42618909997886\n",
      "  (4455, 1148)\t0.38998123077430413\n",
      "  (4455, 6433)\t0.38998123077430413\n",
      "  (4455, 6361)\t0.25697343671652706\n",
      "  (4455, 2764)\t0.3226323745940581\n",
      "  (4455, 7358)\t0.2915949626395065\n",
      "  (4455, 7407)\t0.3028481995557642\n",
      "  (4455, 2108)\t0.3136468384526087\n",
      "  (4455, 4251)\t0.30616657078392584\n",
      "  (4455, 3763)\t0.16807158405536876\n",
      "  (4455, 4773)\t0.35860460546223444\n",
      "  (4456, 6117)\t0.5304350313291551\n",
      "  (4456, 6133)\t0.5304350313291551\n",
      "  (4456, 1386)\t0.4460036316446079\n",
      "  (4456, 4557)\t0.48821933148688146\n"
     ]
    }
   ],
   "source": [
    "print(xtrain_vec)"
   ]
  },
  {
   "cell_type": "code",
   "execution_count": 33,
   "id": "c58bb10d",
   "metadata": {},
   "outputs": [
    {
     "name": "stdout",
     "output_type": "stream",
     "text": [
      "  (0, 6007)\t0.537093591660729\n",
      "  (0, 4294)\t0.5159375448718375\n",
      "  (0, 1537)\t0.667337188824809\n",
      "  (1, 7222)\t0.23059492898537967\n",
      "  (1, 6599)\t0.14954692788663673\n",
      "  (1, 6579)\t0.2733682162643466\n",
      "  (1, 5501)\t0.28671640581392144\n",
      "  (1, 5347)\t0.2733682162643466\n",
      "  (1, 5250)\t0.28671640581392144\n",
      "  (1, 4045)\t0.250549335510249\n",
      "  (1, 3365)\t0.28671640581392144\n",
      "  (1, 3300)\t0.37297727661877506\n",
      "  (1, 2899)\t0.1385795841356552\n",
      "  (1, 602)\t0.28671640581392144\n",
      "  (1, 520)\t0.19344507865262492\n",
      "  (1, 321)\t0.28671640581392144\n",
      "  (1, 43)\t0.24547458936715758\n",
      "  (1, 1)\t0.21260233518669946\n",
      "  (2, 6701)\t0.30969080396105314\n",
      "  (2, 6648)\t0.3410121739015846\n",
      "  (2, 4070)\t0.44361668503137164\n",
      "  (2, 2941)\t0.6068486133983123\n",
      "  (2, 2939)\t0.47195476517479323\n",
      "  (3, 7101)\t0.29334330258175106\n",
      "  (3, 6746)\t0.2031810874151213\n",
      "  :\t:\n",
      "  (1111, 7415)\t0.4945753828645536\n",
      "  (1111, 6848)\t0.39685462025643714\n",
      "  (1111, 6093)\t0.4671914311419049\n",
      "  (1111, 3259)\t0.4477622081928626\n",
      "  (1111, 2458)\t0.42325261089251354\n",
      "  (1112, 4903)\t0.4770390302498559\n",
      "  (1112, 4282)\t0.3509184569755111\n",
      "  (1112, 3432)\t0.36314080337211135\n",
      "  (1112, 3259)\t0.36314080337211135\n",
      "  (1112, 2780)\t0.374513931687687\n",
      "  (1112, 2704)\t0.3704547809702326\n",
      "  (1112, 2114)\t0.3287097264348074\n",
      "  (1113, 6846)\t0.4168758749641195\n",
      "  (1113, 5806)\t0.488439471695463\n",
      "  (1113, 3963)\t0.3910346709289789\n",
      "  (1113, 3239)\t0.488439471695463\n",
      "  (1113, 1657)\t0.44289971323548966\n",
      "  (1114, 7295)\t0.33014792863496223\n",
      "  (1114, 6902)\t0.3063326681877805\n",
      "  (1114, 5565)\t0.5010303679312903\n",
      "  (1114, 5073)\t0.3194139844000448\n",
      "  (1114, 3564)\t0.40844238751288037\n",
      "  (1114, 2899)\t0.2421646568502054\n",
      "  (1114, 2862)\t0.38140394975458775\n",
      "  (1114, 2352)\t0.270495916357943\n"
     ]
    }
   ],
   "source": [
    "print(xtest_vec)"
   ]
  },
  {
   "cell_type": "markdown",
   "id": "e89f4c34",
   "metadata": {},
   "source": [
    "# Training and testing the Model "
   ]
  },
  {
   "cell_type": "code",
   "execution_count": 34,
   "id": "6c762cb9",
   "metadata": {},
   "outputs": [],
   "source": [
    "l = LogisticRegression()"
   ]
  },
  {
   "cell_type": "code",
   "execution_count": 35,
   "id": "91e29b5f",
   "metadata": {},
   "outputs": [
    {
     "data": {
      "text/plain": [
       "LogisticRegression()"
      ]
     },
     "execution_count": 35,
     "metadata": {},
     "output_type": "execute_result"
    }
   ],
   "source": [
    "l.fit(xtrain_vec,y_train)"
   ]
  },
  {
   "cell_type": "code",
   "execution_count": 36,
   "id": "317169c4",
   "metadata": {},
   "outputs": [
    {
     "data": {
      "text/plain": [
       "0.9661207089970832"
      ]
     },
     "execution_count": 36,
     "metadata": {},
     "output_type": "execute_result"
    }
   ],
   "source": [
    "l.score(xtrain_vec,y_train)"
   ]
  },
  {
   "cell_type": "code",
   "execution_count": 37,
   "id": "f89865ad",
   "metadata": {},
   "outputs": [
    {
     "data": {
      "text/plain": [
       "0.9623318385650225"
      ]
     },
     "execution_count": 37,
     "metadata": {},
     "output_type": "execute_result"
    }
   ],
   "source": [
    "l.score(xtest_vec,y_test)"
   ]
  },
  {
   "cell_type": "code",
   "execution_count": 38,
   "id": "50e43852",
   "metadata": {},
   "outputs": [
    {
     "data": {
      "text/plain": [
       "array([1, 1, 1, ..., 1, 1, 1])"
      ]
     },
     "execution_count": 38,
     "metadata": {},
     "output_type": "execute_result"
    }
   ],
   "source": [
    "p = l.predict(xtest_vec)\n",
    "p"
   ]
  },
  {
   "cell_type": "code",
   "execution_count": 39,
   "id": "a06f3671",
   "metadata": {},
   "outputs": [
    {
     "data": {
      "text/plain": [
       "0.9623318385650225"
      ]
     },
     "execution_count": 39,
     "metadata": {},
     "output_type": "execute_result"
    }
   ],
   "source": [
    "accuracy = accuracy_score(y_test, p)\n",
    "accuracy"
   ]
  },
  {
   "cell_type": "code",
   "execution_count": 40,
   "id": "0693d460",
   "metadata": {},
   "outputs": [
    {
     "data": {
      "text/plain": [
       "array([[114,  41],\n",
       "       [  1, 959]], dtype=int64)"
      ]
     },
     "execution_count": 40,
     "metadata": {},
     "output_type": "execute_result"
    }
   ],
   "source": [
    "conf_matrix = confusion_matrix(y_test,p)\n",
    "conf_matrix"
   ]
  },
  {
   "cell_type": "code",
   "execution_count": 41,
   "id": "c27e779c",
   "metadata": {},
   "outputs": [
    {
     "name": "stdout",
     "output_type": "stream",
     "text": [
      "              precision    recall  f1-score   support\n",
      "\n",
      "           0       0.99      0.74      0.84       155\n",
      "           1       0.96      1.00      0.98       960\n",
      "\n",
      "    accuracy                           0.96      1115\n",
      "   macro avg       0.98      0.87      0.91      1115\n",
      "weighted avg       0.96      0.96      0.96      1115\n",
      "\n"
     ]
    }
   ],
   "source": [
    "report = classification_report(y_test, p)\n",
    "print(report)"
   ]
  }
 ],
 "metadata": {
  "kernelspec": {
   "display_name": "Python 3 (ipykernel)",
   "language": "python",
   "name": "python3"
  },
  "language_info": {
   "codemirror_mode": {
    "name": "ipython",
    "version": 3
   },
   "file_extension": ".py",
   "mimetype": "text/x-python",
   "name": "python",
   "nbconvert_exporter": "python",
   "pygments_lexer": "ipython3",
   "version": "3.9.7"
  }
 },
 "nbformat": 4,
 "nbformat_minor": 5
}
